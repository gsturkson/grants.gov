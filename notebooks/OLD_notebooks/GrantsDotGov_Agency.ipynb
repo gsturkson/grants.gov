{
 "cells": [
  {
   "attachments": {},
   "cell_type": "markdown",
   "id": "16a995a5",
   "metadata": {},
   "source": [
    "# USG grants crawl\n",
    "## Agency-specific \n",
    "\n",
    "### Previously\n",
    "\n",
    "In the previous chapter we looked at how often certain open science infrastructure-related terms were featured in grants from grants listed on [grants.gov](https://www.grants.gov/web/grants) and how often they co-occured.\n",
    "\n",
    "In this chapter we'll move on to looking how federal agencies play into this as well.  Specifically, we'll look at which terms are occuring in which agencies grants.\n",
    "\n",
    "### Loading the database once more\n",
    "\n",
    "Let's begin by loading up the database provided by the website, which is stored in an xml format."
   ]
  },
  {
   "cell_type": "code",
   "execution_count": 3,
   "id": "a9cf4074",
   "metadata": {},
   "outputs": [
    {
     "name": "stdout",
     "output_type": "stream",
     "text": [
      "No local grant data XML file found\n",
      "Downloading grant data from grants.gov\n",
      "41283 bytes file downloaded from\n",
      "https://www.grants.gov/extract/GrantsDBExtract20240709v2.zip\n",
      "Saved to ../../inputData\n"
     ]
    },
    {
     "ename": "BadZipFile",
     "evalue": "File is not a zip file",
     "output_type": "error",
     "traceback": [
      "\u001b[1;31m---------------------------------------------------------------------------\u001b[0m",
      "\u001b[1;31mFileNotFoundError\u001b[0m                         Traceback (most recent call last)",
      "File \u001b[1;32mc:\\Users\\George Turkson\\Documents\\projects\\USG_grants_crawl-main\\src\\grantsGov_utilities.py:2137\u001b[0m, in \u001b[0;36mdetectLocalGrantData\u001b[1;34m(localPath, forceDownload)\u001b[0m\n\u001b[0;32m   2136\u001b[0m     \u001b[38;5;28;01melse\u001b[39;00m:\n\u001b[1;32m-> 2137\u001b[0m         \u001b[38;5;28;01mraise\u001b[39;00m \u001b[38;5;167;01mFileNotFoundError\u001b[39;00m\n\u001b[0;32m   2138\u001b[0m \u001b[38;5;28;01mexcept\u001b[39;00m \u001b[38;5;167;01mFileNotFoundError\u001b[39;00m:\n",
      "\u001b[1;31mFileNotFoundError\u001b[0m: ",
      "\nDuring handling of the above exception, another exception occurred:\n",
      "\u001b[1;31mBadZipFile\u001b[0m                                Traceback (most recent call last)",
      "Cell \u001b[1;32mIn[3], line 11\u001b[0m\n\u001b[0;32m      8\u001b[0m \u001b[38;5;66;03m# local data storage directory\u001b[39;00m\n\u001b[0;32m      9\u001b[0m localDataDir\u001b[38;5;241m=\u001b[39m\u001b[38;5;124m'\u001b[39m\u001b[38;5;124minputData\u001b[39m\u001b[38;5;124m'\u001b[39m\n\u001b[1;32m---> 11\u001b[0m grantsDF\u001b[38;5;241m=\u001b[39m\u001b[43mgrantsGov_utilities\u001b[49m\u001b[38;5;241;43m.\u001b[39;49m\u001b[43mdetectLocalGrantData\u001b[49m\u001b[43m(\u001b[49m\u001b[43mlocalPath\u001b[49m\u001b[38;5;241;43m=\u001b[39;49m\u001b[38;5;124;43m'\u001b[39;49m\u001b[38;5;124;43m../../\u001b[39;49m\u001b[38;5;124;43m'\u001b[39;49m\u001b[38;5;241;43m+\u001b[39;49m\u001b[43mlocalDataDir\u001b[49m\u001b[43m,\u001b[49m\u001b[43mforceDownload\u001b[49m\u001b[38;5;241;43m=\u001b[39;49m\u001b[38;5;28;43;01mTrue\u001b[39;49;00m\u001b[43m)\u001b[49m\n\u001b[0;32m     12\u001b[0m grantsDF\n",
      "File \u001b[1;32mc:\\Users\\George Turkson\\Documents\\projects\\USG_grants_crawl-main\\src\\grantsGov_utilities.py:2142\u001b[0m, in \u001b[0;36mdetectLocalGrantData\u001b[1;34m(localPath, forceDownload)\u001b[0m\n\u001b[0;32m   2140\u001b[0m     \u001b[38;5;28;01mif\u001b[39;00m forceDownload:\n\u001b[0;32m   2141\u001b[0m         \u001b[38;5;28mprint\u001b[39m(\u001b[38;5;124m'\u001b[39m\u001b[38;5;124mDownloading grant data from grants.gov\u001b[39m\u001b[38;5;124m'\u001b[39m)\n\u001b[1;32m-> 2142\u001b[0m         xmlDownloadPath \u001b[38;5;241m=\u001b[39m \u001b[43mdownloadLatestGrantsXML\u001b[49m\u001b[43m(\u001b[49m\u001b[43msavePathDir\u001b[49m\u001b[38;5;241;43m=\u001b[39;49m\u001b[43mlocalPath\u001b[49m\u001b[43m)\u001b[49m\n\u001b[0;32m   2143\u001b[0m         grantsDF \u001b[38;5;241m=\u001b[39m grantXML_to_dictionary(xmlDownloadPath)\n\u001b[0;32m   2144\u001b[0m \u001b[38;5;28;01mexcept\u001b[39;00m \u001b[38;5;167;01mException\u001b[39;00m \u001b[38;5;28;01mas\u001b[39;00m e:\n",
      "File \u001b[1;32mc:\\Users\\George Turkson\\Documents\\projects\\USG_grants_crawl-main\\src\\grantsGov_utilities.py:1175\u001b[0m, in \u001b[0;36mdownloadLatestGrantsXML\u001b[1;34m(savePathDir)\u001b[0m\n\u001b[0;32m   1173\u001b[0m download_url(queryURL, zipSavePath, chunk_size\u001b[38;5;241m=\u001b[39m\u001b[38;5;241m128\u001b[39m)\n\u001b[0;32m   1174\u001b[0m \u001b[38;5;66;03m# unzip in place\u001b[39;00m\n\u001b[1;32m-> 1175\u001b[0m \u001b[38;5;28;01mwith\u001b[39;00m \u001b[43mzipfile\u001b[49m\u001b[38;5;241;43m.\u001b[39;49m\u001b[43mZipFile\u001b[49m\u001b[43m(\u001b[49m\u001b[43mzipSavePath\u001b[49m\u001b[43m,\u001b[49m\u001b[43m \u001b[49m\u001b[38;5;124;43m'\u001b[39;49m\u001b[38;5;124;43mr\u001b[39;49m\u001b[38;5;124;43m'\u001b[39;49m\u001b[43m)\u001b[49m \u001b[38;5;28;01mas\u001b[39;00m zip_ref:\n\u001b[0;32m   1176\u001b[0m     zip_ref\u001b[38;5;241m.\u001b[39mextractall(savePathDir)\n\u001b[0;32m   1177\u001b[0m \u001b[38;5;28mprint\u001b[39m(\u001b[38;5;124m'\u001b[39m\u001b[38;5;124mDownloaded file unZipped, deleting original file.\u001b[39m\u001b[38;5;124m'\u001b[39m)\n",
      "File \u001b[1;32mc:\\Program Files\\Python39\\lib\\zipfile.py:1266\u001b[0m, in \u001b[0;36mZipFile.__init__\u001b[1;34m(self, file, mode, compression, allowZip64, compresslevel, strict_timestamps)\u001b[0m\n\u001b[0;32m   1264\u001b[0m \u001b[38;5;28;01mtry\u001b[39;00m:\n\u001b[0;32m   1265\u001b[0m     \u001b[38;5;28;01mif\u001b[39;00m mode \u001b[38;5;241m==\u001b[39m \u001b[38;5;124m'\u001b[39m\u001b[38;5;124mr\u001b[39m\u001b[38;5;124m'\u001b[39m:\n\u001b[1;32m-> 1266\u001b[0m         \u001b[38;5;28;43mself\u001b[39;49m\u001b[38;5;241;43m.\u001b[39;49m\u001b[43m_RealGetContents\u001b[49m\u001b[43m(\u001b[49m\u001b[43m)\u001b[49m\n\u001b[0;32m   1267\u001b[0m     \u001b[38;5;28;01melif\u001b[39;00m mode \u001b[38;5;129;01min\u001b[39;00m (\u001b[38;5;124m'\u001b[39m\u001b[38;5;124mw\u001b[39m\u001b[38;5;124m'\u001b[39m, \u001b[38;5;124m'\u001b[39m\u001b[38;5;124mx\u001b[39m\u001b[38;5;124m'\u001b[39m):\n\u001b[0;32m   1268\u001b[0m         \u001b[38;5;66;03m# set the modified flag so central directory gets written\u001b[39;00m\n\u001b[0;32m   1269\u001b[0m         \u001b[38;5;66;03m# even if no files are added to the archive\u001b[39;00m\n\u001b[0;32m   1270\u001b[0m         \u001b[38;5;28mself\u001b[39m\u001b[38;5;241m.\u001b[39m_didModify \u001b[38;5;241m=\u001b[39m \u001b[38;5;28;01mTrue\u001b[39;00m\n",
      "File \u001b[1;32mc:\\Program Files\\Python39\\lib\\zipfile.py:1333\u001b[0m, in \u001b[0;36mZipFile._RealGetContents\u001b[1;34m(self)\u001b[0m\n\u001b[0;32m   1331\u001b[0m     \u001b[38;5;28;01mraise\u001b[39;00m BadZipFile(\u001b[38;5;124m\"\u001b[39m\u001b[38;5;124mFile is not a zip file\u001b[39m\u001b[38;5;124m\"\u001b[39m)\n\u001b[0;32m   1332\u001b[0m \u001b[38;5;28;01mif\u001b[39;00m \u001b[38;5;129;01mnot\u001b[39;00m endrec:\n\u001b[1;32m-> 1333\u001b[0m     \u001b[38;5;28;01mraise\u001b[39;00m BadZipFile(\u001b[38;5;124m\"\u001b[39m\u001b[38;5;124mFile is not a zip file\u001b[39m\u001b[38;5;124m\"\u001b[39m)\n\u001b[0;32m   1334\u001b[0m \u001b[38;5;28;01mif\u001b[39;00m \u001b[38;5;28mself\u001b[39m\u001b[38;5;241m.\u001b[39mdebug \u001b[38;5;241m>\u001b[39m \u001b[38;5;241m1\u001b[39m:\n\u001b[0;32m   1335\u001b[0m     \u001b[38;5;28mprint\u001b[39m(endrec)\n",
      "\u001b[1;31mBadZipFile\u001b[0m: File is not a zip file"
     ]
    }
   ],
   "source": [
    "# import our helper functions\n",
    "import sys\n",
    "import os\n",
    "sys.path.insert(0, os.path.abspath('../../src'))\n",
    "sys.path\n",
    "import grantsGov_utilities as grantsGov_utilities\n",
    "\n",
    "# local data storage directory\n",
    "localDataDir='inputData'\n",
    "\n",
    "grantsDF=grantsGov_utilities.detectLocalGrantData(localPath='../../'+localDataDir,forceDownload=True)\n",
    "grantsDF"
   ]
  },
  {
   "cell_type": "markdown",
   "id": "fbd9ab5a",
   "metadata": {},
   "source": [
    "## Cleaning\n",
    "As before, we need to do a bit of cleaning, so lets do a more comprehensive version of that here.\n",
    "\n",
    "Note:  This may take a moment"
   ]
  },
  {
   "cell_type": "code",
   "execution_count": null,
   "id": "91f51388",
   "metadata": {},
   "outputs": [
    {
     "ename": "NameError",
     "evalue": "name 'grantsDF' is not defined",
     "output_type": "error",
     "traceback": [
      "\u001b[1;31m---------------------------------------------------------------------------\u001b[0m",
      "\u001b[1;31mNameError\u001b[0m                                 Traceback (most recent call last)",
      "Cell \u001b[1;32mIn[11], line 1\u001b[0m\n\u001b[1;32m----> 1\u001b[0m grantsDF\u001b[38;5;241m=\u001b[39mgrantsGov_utilities\u001b[38;5;241m.\u001b[39mprepareGrantsDF(\u001b[43mgrantsDF\u001b[49m, repair\u001b[38;5;241m=\u001b[39m\u001b[38;5;28;01mTrue\u001b[39;00m)\n\u001b[0;32m      2\u001b[0m grantsDF\n",
      "\u001b[1;31mNameError\u001b[0m: name 'grantsDF' is not defined"
     ]
    }
   ],
   "source": [
    "grantsDF=grantsGov_utilities.prepareGrantsDF(grantsDF, repair=True)\n",
    "grantsDF"
   ]
  },
  {
   "attachments": {},
   "cell_type": "markdown",
   "id": "7c1f7d27",
   "metadata": {},
   "source": [
    "### Keywords and terms\n",
    "\n",
    "Although we aren't going to inspect the keywords and agencies on their own this time, we still need to collect them.  Once we have loaded them, we can determine which words are occuring in which grants, and which agencies those grants are associated with.  The resulting information can be placed in a dictionary, where the relevant information can be accessed by using the [`tuple`](https://www.w3schools.com/python/python_tuples.asp) corresponding to the desired agency and keyword (e.g. (`[agency]`,`[keyword]`))."
   ]
  },
  {
   "cell_type": "code",
   "execution_count": null,
   "id": "fa2e904e",
   "metadata": {},
   "outputs": [],
   "source": [
    "import seaborn as sns\n",
    "import itertools\n",
    "import pandas as pd\n",
    "import matplotlib.pyplot as plt\n",
    "import re\n",
    "import numpy as np\n",
    "\n",
    "# open the keywords file\n",
    "with open('../keywords.txt', 'r') as f:\n",
    "    keywords = f.read()\n",
    "\n",
    "# split it into a list.  Each term is kept on a separate line\n",
    "keywords=keywords.split('\\n')\n",
    "\n",
    "# find the grants that are associated with thse keywords\n",
    "grantFindsOut=grantsGov_utilities.searchGrantsDF_for_keywords(grantsDF,keywords)\n",
    "# find the agencies associated with these\n",
    "grantAgenciesOut=grantsGov_utilities.grants_by_Agencies(grantsDF)\n",
    "\n",
    "# get a dataframe with the keyword by agency information\n",
    "keywordsByAgency_DF=grantsGov_utilities.evalGrantCoOccurrence([grantFindsOut,grantAgenciesOut],formatOut='dataframe')\n",
    "# get the counts for all of these\n",
    "keywordsByAgency_count_DF=keywordsByAgency_DF.applymap(lambda x: len(x))"
   ]
  },
  {
   "cell_type": "markdown",
   "id": "6331be62",
   "metadata": {},
   "source": [
    "### A small wait\n",
    "\n",
    "Because the previous analysis isn't coded particularly efficient, it can take a moment to complete.  Part of this has to do with the inefficiency required to index back in to the database, as well as the inefficient storage method for the information we are getting (i.e. appending to lists in a large dictionary)\n",
    "\n",
    "In any case, once we have the relevant data structure we can look at which agencies are using which terms, and also receive an ouput of the [grants.gov](https://www.grants.gov/web/grants) IDs associated with those grants"
   ]
  },
  {
   "cell_type": "code",
   "execution_count": null,
   "id": "13eb8fdf",
   "metadata": {
    "scrolled": false
   },
   "outputs": [
    {
     "data": {
      "application/vnd.jupyter.widget-view+json": {
       "model_id": "e9b833638c024e94b8a15608e0985e39",
       "version_major": 2,
       "version_minor": 0
      },
      "text/plain": [
       "interactive(children=(Dropdown(description='Row:', options=('metadata', 'interoperable', 'reusable', 'data reu…"
      ]
     },
     "metadata": {},
     "output_type": "display_data"
    },
    {
     "data": {
      "text/plain": [
       "<function __main__.update_plots(rowSelectName, columnSelectName)>"
      ]
     },
     "execution_count": 4,
     "metadata": {},
     "output_type": "execute_result"
    }
   ],
   "source": [
    "# chat-davinci-002 prompt\n",
    "# an iteractive jupyer notebook widget that returns two subplot windows.  The input is a numerical matrix.  The interface features two dropdown menus that allow you to select a row (i) and column (j) from the matrix.  On the left side of the subplot outputs, a matrix heatmap plotting the numerical data.  On the right side of the subplot outputs, a blank plot that is used to display text indicating the value found in the specific matrix (i,j) entry selected in the dropdown menus.\n",
    "\n",
    "import ipywidgets as widgets\n",
    "import numpy as np\n",
    "import matplotlib.pyplot as plt\n",
    "import matplotlib.cm as cm\n",
    "import matplotlib.colors as colors\n",
    "import pandas as pd\n",
    "import seaborn as sns\n",
    "from IPython.display import clear_output\n",
    "from matplotlib.colors import LogNorm\n",
    "\n",
    "def heatmap_plot(matrix, heatmap_ax, row, column):\n",
    "    \"\"\"\n",
    "    Plots the heatmap with a crosshair at the desired location\n",
    "    \"\"\"\n",
    "    # if row is empty, default to column\n",
    "    if row == '':\n",
    "        row = column\n",
    "    # if column is empty, default to row\n",
    "    if column == '':\n",
    "        column = row\n",
    "    # if both are empty, no outline\n",
    "    if row == '' and column == '':\n",
    "        row = 0\n",
    "        column = 0\n",
    "    # if both are not empty, only highlight the relevant cell\n",
    "    if row != '' and column != '':\n",
    "        row = row\n",
    "        column = column\n",
    "    # create the heatmap plot\n",
    "    sns.heatmap(matrix, ax=heatmap_ax, norm=LogNorm(),cmap='viridis', cbar=True, xticklabels=list(keywordsByAgency_count_DF.columns), yticklabels=keywords, cbar_kws={'label': 'Grant count\\n(log-scale)'})\n",
    "    # create the outline\n",
    "    heatmap_ax.axvline(x=column+.5, color='red', linewidth=2)\n",
    "    heatmap_ax.axhline(y=row+.5, color='red', linewidth=2)\n",
    "    heatmap_ax.set(xlabel='Agency', ylabel='OS Keyword')\n",
    "    # show the plot\n",
    "\n",
    "def plot_list(axis, list_of_text, font_size=None, font_color='black', font_family='sans-serif') :\n",
    "    \"\"\"\n",
    "    A function for plotting a list of text elements evenly across a passed in axis.  The function begins by taking in the passed in axis and measuring the space available.  The function then uses those dimensions to determine both the font size and how the list elements should be split into rows and columns so as to take up the maximum amount of space available within the axis, without overlapping.  The function then plots those list elements to the axis space.  Finally the plot is displayed.  The function does not alter the size of the input axes or resultant figure.\n",
    "\n",
    "    Parameters\n",
    "    ----------\n",
    "    axis : matplotlib.axes.Axes\n",
    "        The axis to plot the list of text elements to.\n",
    "    list_of_text : list\n",
    "        A list of text elements to plot to the axis.\n",
    "    font_size : int, optional\n",
    "        The font size to use for the text elements.  If not passed in, the function will calculate the font size based on the size of the axis.\n",
    "    font_color : str, optional\n",
    "        The color of the text elements.  The default is 'black'.\n",
    "    font_family : str, optional\n",
    "        The font family to use for the text elements.  The default is 'sans-serif'.\n",
    "\n",
    "    testBox:\n",
    "    \n",
    "    aaaaa\n",
    "    aaaaa\n",
    "    aaaaa\n",
    "    \n",
    "\n",
    "    Returns\n",
    "    -------\n",
    "    None.\n",
    "\n",
    "    \"\"\"\n",
    "    import math\n",
    "\n",
    "\n",
    "    # get the axis dimensions\n",
    "    #first get the figure handle\n",
    "    fig=axis.get_figure()\n",
    "    bbox = axis.get_window_extent().transformed(fig.dpi_scale_trans.inverted())\n",
    "    axis_width, axis_height = bbox.width, bbox.height\n",
    "    # returns in pixels, for some reason\n",
    "    #axis_width = axis.get_window_extent().width\n",
    "    #axis_height = axis.get_window_extent().height\n",
    "\n",
    "    # no need to get units for these axes sizes as we can safely assume they are in inches.\n",
    "    spaceNum=4\n",
    "\n",
    "    #assumed aspect ratio, how many characters can you fit along x amount of space vertically : horizontally; see text box for demo\n",
    "    textAspectRatio=5/5\n",
    "    \n",
    "    # calculate the maximum number of characters in the text elements and use this to establish the expected character width of columns\n",
    "    max_characters = max([len(x) for x in list_of_text])\n",
    "\n",
    "    # create a list of spaces to add to the end of each list element\n",
    "    spaces = [' ' * (max_characters - len(x)) for x in list_of_text]\n",
    "\n",
    "    # join the list of text elements with the list of spaces\n",
    "    list_of_text = [x + y for x, y in zip(list_of_text, spaces)]\n",
    "\n",
    "    nonSpaceCount=len(list_of_text) - list_of_text.count(' ')\n",
    "    spacaceCount=list_of_text.count(' ')\n",
    "    #estimate total character footprint\n",
    "    charFootprint=nonSpaceCount+(spacaceCount/2)\n",
    "    #quasi math: rows=3/5*cols; squareform=cols^2; totalChars=(3/5*cols)*cols\n",
    "    colNum=math.ceil(math.sqrt(charFootprint*5/3))\n",
    "    rowNum=math.ceil(colNum*(textAspectRatio))\n",
    "    \n",
    "    #element_per_row=math.ceil(colNum/(max_characters+2))\n",
    "    #get the nearest root that's equal to or greter than len(list_of_text) root\n",
    "    math.ceil(charFootprint/rowNum)\n",
    "\n",
    "    mergedText=''\n",
    "    # conditional appending\n",
    "    for iTextIndex, iTextElements in enumerate(list_of_text):\n",
    "        #if it's divisible by the number of elements per row\n",
    "        if (iTextIndex+1) % math.ceil(charFootprint/rowNum) == 0:\n",
    "            mergedText=mergedText + iTextElements + '\\n'\n",
    "        else:\n",
    "            mergedText=mergedText + iTextElements + spaceNum * ' '\n",
    "\n",
    "    #how many chars per row, spaces only count as half, it seems\n",
    "    #rowCharNumber= (rows_element_num * (max_characters  + math.ceil(spaceNum/2)))-math.ceil(spaceNum/2)  \n",
    "\n",
    "    #72 seems to not actuall be = to one inch\n",
    "    fontScaleFactor=.3\n",
    "\n",
    "    # calculate the maximum allowable font size based on the both the height and width axes, such that no text from list_of_text will exceed the axes boundaries.  Assume 1 point of font is equal to 1/72 inches.\n",
    "    maxWidthFont=(axis_width / (colNum / (72 * fontScaleFactor)))\n",
    "    maxHeightFont=(axis_height /( rowNum / (32* fontScaleFactor)))\n",
    "    max_font_size = min([maxWidthFont, maxHeightFont])\n",
    "\n",
    "    # if a font size was passed in, use it.  Otherwise, use the calculated font size.\n",
    "    if font_size is None :\n",
    "        font_size = max_font_size\n",
    "\n",
    "    # plot the list of text elements to the axis\n",
    "    axis.text(0, 0, mergedText, fontsize=font_size, color=font_color, family=font_family)\n",
    "\n",
    "    # display the plot\n",
    "    plt.show()\n",
    "\n",
    "\n",
    "# create a function that updates the heatmap\n",
    "def heatmap_and_text(countMatrix,rowSelect,columnSelect):\n",
    "    \"\"\"\n",
    "    Plots both the heatmap and the textbox of grants in a 1 by 2 subplot\n",
    "    \"\"\"\n",
    "\n",
    "\n",
    "    fig, ax = plt.subplots(2, 1, figsize=(10, 20))\n",
    "\n",
    "    # plot the heatmap\n",
    "    heatmap_plot(countMatrix, heatmap_ax=plt.gcf().get_axes()[0], row=rowSelect, column=columnSelect)\n",
    "    keyTuple=tuple([col_menu.value,row_menu.value])\n",
    "    try:\n",
    "        list_to_plot=dataHolder[keyTuple]\n",
    "    except:\n",
    "        list_to_plot=['No grants found']\n",
    "    plot_list(plt.gcf().get_axes()[1],list_to_plot)\n",
    "    # show the plot\n",
    "\n",
    "def update_plots(rowSelectName,columnSelectName):\n",
    "    \"\"\"\n",
    "    Performs the updating\n",
    "    \"\"\"\n",
    "    \n",
    "    rowIndex=list(keywords).index(rowSelectName)\n",
    "    colIndex=list(keywordsByAgency_count_DF.columns).index(columnSelectName)\n",
    "    heatmap_and_text(keywordsByAgency_count_DF.values,rowIndex,colIndex)\n",
    "    \n",
    "    \n",
    "# link the dropdown menus to the update functions\n",
    "#row_menu.observe(update_heatmap, names='value')\n",
    "#col_menu.observe(update_heatmap, names='value')\n",
    "# display the widgets\n",
    "#display(row_menu)\n",
    "#display(col_menu)\n",
    "\n",
    "# update the heatmap\n",
    "#update_heatmap(None)\n",
    "# create a dropdown menu for the rows\n",
    "row_menu = widgets.Dropdown(\n",
    "    options=list(keywords),\n",
    "    #value=,\n",
    "    description='Row:',\n",
    "    disabled=False,\n",
    ")\n",
    "# create a dropdown menu for the columns\n",
    "col_menu = widgets.Dropdown(\n",
    "    options=list(keywordsByAgency_count_DF.columns),\n",
    "    #value='',\n",
    "    description='Column:',\n",
    "    disabled=False,\n",
    "    )\n",
    "\n",
    "\n",
    "%matplotlib inline\n",
    "from ipywidgets import interact\n",
    "#establishes interactivity\n",
    "interact(update_plots,rowSelectName=row_menu,columnSelectName=col_menu)"
   ]
  },
  {
   "cell_type": "markdown",
   "id": "ec896f8a",
   "metadata": {},
   "source": [
    "### Interacting with the plot \n",
    "\n",
    "The widget should allow you to select which terms to work with.  For the moment (i.e. early stages of this notebook) the interface is relatively rudamentary but the heatmap plot should feature a crosshair indicating which agency and term you are looking at.  The plot beneath that should inclde a list of the grant.gov IDs.  In many cases no grants are found meeting the criteria, and so a large text indicator should appear stating this.  However in the event that grants are found, they should be listed.  Currently the text scaling for this feature is rudamentary, and so if too many are found their font might be extremely small (future [modifications](https://stackoverflow.com/questions/55729075/matplotlib-how-to-autoscale-font-size-so-that-text-fits-some-bounding-box) could adress this).  Additionally, the text elements themselves may be [capable of being hyperlinks](https://matplotlib.org/stable/gallery/misc/hyperlinks_sgskip.html).\n",
    "\n",
    "In any case, we can also attempt to replicate this process and look at the value of the grants as well.  As before, this computation will take a moment."
   ]
  },
  {
   "cell_type": "code",
   "execution_count": null,
   "id": "3c57613f",
   "metadata": {},
   "outputs": [],
   "source": [
    "#now do it again with value\n",
    "\n",
    "# see if we can do it cleverly with applymap\n",
    "keywordsByAgency_sumValue_DF=keywordsByAgency_DF.applymap(lambda x: 0+np.sum([grantsDF['EstimatedTotalProgramFunding'].loc[grantsDF['OpportunityID'].eq(igrantID)].values for igrantID in x]))"
   ]
  },
  {
   "attachments": {},
   "cell_type": "markdown",
   "id": "1f64e683",
   "metadata": {},
   "source": [
    "### Plotting the values\n",
    "\n",
    "We'll reuse much of the same code as we did before, except this time we'll be redefining the section where we took in the count matrix.  The interactivity of the resulting plot should be quite the same as the previous one.\n",
    "\n",
    "Keep in mind though, that there may be errors in how the grant values have been reported, and so the reultant trends should be taken with a grain of salt.\n"
   ]
  },
  {
   "cell_type": "code",
   "execution_count": null,
   "id": "de667e87",
   "metadata": {},
   "outputs": [
    {
     "data": {
      "application/vnd.jupyter.widget-view+json": {
       "model_id": "d0bac0eef4be4f64beb1dfd1aa245d42",
       "version_major": 2,
       "version_minor": 0
      },
      "text/plain": [
       "interactive(children=(Dropdown(description='Row:', options=('metadata', 'interoperable', 'reusable', 'data reu…"
      ]
     },
     "metadata": {},
     "output_type": "display_data"
    },
    {
     "data": {
      "text/plain": [
       "<function __main__.update_plots(rowSelectName, columnSelectName)>"
      ]
     },
     "execution_count": 6,
     "metadata": {},
     "output_type": "execute_result"
    }
   ],
   "source": [
    "# redefining for new matrix input\n",
    "def update_plots(rowSelectName,columnSelectName):\n",
    "    \"\"\"\n",
    "    Performs the updating\n",
    "    \"\"\"\n",
    "    \n",
    "    rowIndex=list(keywords).index(rowSelectName)\n",
    "    colIndex=list(list(keywordsByAgency_count_DF.columns)).index(columnSelectName)\n",
    "    heatmap_and_text(keywordsByAgency_sumValue_DF.values,rowIndex,colIndex)\n",
    "    \n",
    "# update the heatmap\n",
    "#update_heatmap(None)\n",
    "# create a dropdown menu for the rows\n",
    "row_menu = widgets.Dropdown(\n",
    "    options=list(grantFindsOut.keys()),\n",
    "    #value=,\n",
    "    description='Row:',\n",
    "    disabled=False,\n",
    ")\n",
    "# create a dropdown menu for the columns\n",
    "col_menu = widgets.Dropdown(\n",
    "    options=list(keywordsByAgency_count_DF.columns),\n",
    "    #value='',\n",
    "    description='Column:',\n",
    "    disabled=False,\n",
    "    )\n",
    "\n",
    "# redefining for new axes labels\n",
    "def heatmap_plot(matrix, heatmap_ax, row, column):\n",
    "    \"\"\"\n",
    "    Plots the heatmap with a crosshair at the desired location\n",
    "    \"\"\"\n",
    "    # if row is empty, default to column\n",
    "    if row == '':\n",
    "        row = column\n",
    "    # if column is empty, default to row\n",
    "    if column == '':\n",
    "        column = row\n",
    "    # if both are empty, no outline\n",
    "    if row == '' and column == '':\n",
    "        row = 0\n",
    "        column = 0\n",
    "    # if both are not empty, only highlight the relevant cell\n",
    "    if row != '' and column != '':\n",
    "        row = row\n",
    "        column = column\n",
    "    # create the heatmap plot\n",
    "    sns.heatmap(matrix, ax=heatmap_ax, norm=LogNorm(),cmap='viridis', cbar=True, xticklabels=list(keywordsByAgency_count_DF.columns), yticklabels=keywords, cbar_kws={'label': 'Grant value\\n(USD, log-scale)'})\n",
    "    # create the outline\n",
    "    heatmap_ax.axvline(x=column+.5, color='red', linewidth=2)\n",
    "    heatmap_ax.axhline(y=row+.5, color='red', linewidth=2)\n",
    "    heatmap_ax.set(xlabel='Agency', ylabel='OS Keyword')\n",
    "    # show the plot\n",
    "\n",
    "%matplotlib inline\n",
    "from ipywidgets import interact\n",
    "#establishes interactivity\n",
    "interact(update_plots,rowSelectName=row_menu,columnSelectName=col_menu)"
   ]
  }
 ],
 "metadata": {
  "kernelspec": {
   "display_name": "Python 3 (ipykernel)",
   "language": "python",
   "name": "python3"
  },
  "language_info": {
   "codemirror_mode": {
    "name": "ipython",
    "version": 3
   },
   "file_extension": ".py",
   "mimetype": "text/x-python",
   "name": "python",
   "nbconvert_exporter": "python",
   "pygments_lexer": "ipython3",
   "version": "3.9.13"
  }
 },
 "nbformat": 4,
 "nbformat_minor": 5
}
